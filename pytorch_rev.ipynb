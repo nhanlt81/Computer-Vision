{
 "cells": [
  {
   "cell_type": "markdown",
   "metadata": {},
   "source": [
    "##  PYTORCH FRAMEWORK"
   ]
  },
  {
   "cell_type": "code",
   "execution_count": 2,
   "metadata": {},
   "outputs": [
    {
     "name": "stdout",
     "output_type": "stream",
     "text": [
      "1.6.0\n"
     ]
    }
   ],
   "source": [
    "import torch\n",
    "print(torch.__version__)"
   ]
  },
  {
   "cell_type": "code",
   "execution_count": 5,
   "metadata": {},
   "outputs": [
    {
     "name": "stdout",
     "output_type": "stream",
     "text": [
      "tensor([1, 2, 3])\n"
     ]
    }
   ],
   "source": [
    "a = torch.tensor([1,2,3]) # create a multidimentional grid of value\n",
    "print(a)"
   ]
  },
  {
   "cell_type": "code",
   "execution_count": 16,
   "metadata": {},
   "outputs": [
    {
     "name": "stdout",
     "output_type": "stream",
     "text": [
      "1\n"
     ]
    }
   ],
   "source": [
    "print(a.dim()) # print rank() "
   ]
  },
  {
   "cell_type": "code",
   "execution_count": null,
   "metadata": {},
   "outputs": [],
   "source": []
  },
  {
   "cell_type": "code",
   "execution_count": 7,
   "metadata": {
    "scrolled": true
   },
   "outputs": [
    {
     "name": "stdout",
     "output_type": "stream",
     "text": [
      "torch.Size([3])\n"
     ]
    }
   ],
   "source": [
    "print(a.shape) # size of array"
   ]
  },
  {
   "cell_type": "code",
   "execution_count": 8,
   "metadata": {},
   "outputs": [
    {
     "name": "stdout",
     "output_type": "stream",
     "text": [
      "<class 'torch.Tensor'>\n"
     ]
    }
   ],
   "source": [
    "print(type(a)) #type of multidimentional array"
   ]
  },
  {
   "cell_type": "code",
   "execution_count": 9,
   "metadata": {},
   "outputs": [
    {
     "name": "stdout",
     "output_type": "stream",
     "text": [
      "<class 'torch.Tensor'>\n"
     ]
    }
   ],
   "source": [
    "print(type(a[0]))"
   ]
  },
  {
   "cell_type": "code",
   "execution_count": 13,
   "metadata": {},
   "outputs": [
    {
     "name": "stdout",
     "output_type": "stream",
     "text": [
      "3\n"
     ]
    }
   ],
   "source": [
    "print(a[2].item()) # print value at the position of multidimentional array"
   ]
  },
  {
   "cell_type": "code",
   "execution_count": 14,
   "metadata": {},
   "outputs": [
    {
     "name": "stdout",
     "output_type": "stream",
     "text": [
      "<class 'int'>\n"
     ]
    }
   ],
   "source": [
    "print(type(a[1].item()))"
   ]
  },
  {
   "cell_type": "code",
   "execution_count": 15,
   "metadata": {},
   "outputs": [
    {
     "name": "stdout",
     "output_type": "stream",
     "text": [
      "before mutating\n",
      "tensor([1, 2, 3])\n",
      "after mutating\n",
      "tensor([ 1,  2, 15])\n"
     ]
    }
   ],
   "source": [
    "print('before mutating')\n",
    "print(a)\n",
    "a[2] = 15\n",
    "print('after mutating')\n",
    "print(a)"
   ]
  },
  {
   "cell_type": "markdown",
   "metadata": {},
   "source": [
    "## Create tensor with two or more dimentions"
   ]
  },
  {
   "cell_type": "code",
   "execution_count": 20,
   "metadata": {},
   "outputs": [
    {
     "name": "stdout",
     "output_type": "stream",
     "text": [
      "tensor([[1, 2, 3],\n",
      "        [4, 5, 5],\n",
      "        [6, 7, 8]])\n",
      "2\n",
      "torch.Size([3, 3])\n"
     ]
    }
   ],
   "source": [
    "b = torch.tensor([[1,2,3],[4,5,5],[6,7,8]])\n",
    "print(b)\n",
    "print(b.dim()) #print rank base on function dim()\n",
    "print(b.shape) #print size base on the attribute shape of b"
   ]
  },
  {
   "cell_type": "code",
   "execution_count": 24,
   "metadata": {},
   "outputs": [
    {
     "name": "stdout",
     "output_type": "stream",
     "text": [
      "b[0,2]: tensor(3)\n"
     ]
    }
   ],
   "source": [
    "print('b[0,2]:',b[0,2]) # return tensor value of cell b[0,2] // access the element of multidimentional tensor"
   ]
  },
  {
   "cell_type": "code",
   "execution_count": 27,
   "metadata": {},
   "outputs": [
    {
     "name": "stdout",
     "output_type": "stream",
     "text": [
      "tensor([[  1,   2, 100],\n",
      "        [  4,   5,   5],\n",
      "        [  6,   7,   8]])\n"
     ]
    }
   ],
   "source": [
    "b[0,2] = 100 #mutating the cell b[0,2] with value of 8\n",
    "# print the tensor\n",
    "print(b)"
   ]
  },
  {
   "cell_type": "markdown",
   "metadata": {},
   "source": [
    "## Check whether it is true of false"
   ]
  },
  {
   "cell_type": "code",
   "execution_count": 36,
   "metadata": {},
   "outputs": [
    {
     "name": "stdout",
     "output_type": "stream",
     "text": [
      "b is tensor? True\n",
      "size of b is 3x3? True\n"
     ]
    }
   ],
   "source": [
    "print('b is tensor?',torch.is_tensor(b))\n",
    "print('size of b is 3x3?',b.shape == (3,3))"
   ]
  },
  {
   "cell_type": "markdown",
   "metadata": {},
   "source": [
    "##### torch.zeros #create a tensor with all zeros\n",
    "##### torch.ones #create a tensor with all ones\n",
    "##### torch.rand #create a uniform random number\n",
    "##### torch.eye #create identity matrix"
   ]
  },
  {
   "cell_type": "code",
   "execution_count": 40,
   "metadata": {},
   "outputs": [
    {
     "name": "stdout",
     "output_type": "stream",
     "text": [
      "tensor([[0., 0., 0., 0., 0.],\n",
      "        [0., 0., 0., 0., 0.],\n",
      "        [0., 0., 0., 0., 0.],\n",
      "        [0., 0., 0., 0., 0.]])\n",
      "tensor([[1., 1.],\n",
      "        [1., 1.]])\n",
      "tensor([[0.0945, 0.8448, 0.7698],\n",
      "        [0.8281, 0.4021, 0.1148],\n",
      "        [0.3611, 0.4227, 0.0435]])\n",
      "tensor([[1., 0., 0.],\n",
      "        [0., 1., 0.],\n",
      "        [0., 0., 1.]])\n"
     ]
    }
   ],
   "source": [
    "c = torch.zeros(4,5)\n",
    "d = torch.ones(2,2)\n",
    "e = torch.rand(3,3)\n",
    "f = torch.eye(3,3)\n",
    "print(c)\n",
    "print(d)\n",
    "print(e)\n",
    "print(f)"
   ]
  },
  {
   "cell_type": "markdown",
   "metadata": {},
   "source": [
    "#### torch.full() // fill a tensor with mxn matrix with desired number"
   ]
  },
  {
   "cell_type": "code",
   "execution_count": 49,
   "metadata": {},
   "outputs": [
    {
     "name": "stdout",
     "output_type": "stream",
     "text": [
      "tensor([[[7, 7, 7, 7],\n",
      "         [7, 7, 7, 7],\n",
      "         [7, 7, 7, 7]],\n",
      "\n",
      "        [[7, 7, 7, 7],\n",
      "         [7, 7, 7, 7],\n",
      "         [7, 7, 7, 7]]], dtype=torch.int32)\n",
      "is g filled with all 7? True\n"
     ]
    }
   ],
   "source": [
    "g = torch.full((2,3,4),7,out=None,dtype=torch.int32)\n",
    "\n",
    "print(g)\n",
    "print('is g filled with all 7?',(g == 7).all().item() == 1)"
   ]
  },
  {
   "cell_type": "code",
   "execution_count": 53,
   "metadata": {},
   "outputs": [
    {
     "name": "stdout",
     "output_type": "stream",
     "text": [
      "tensor([10., 12., 14., 16., 18., 20.], dtype=torch.float64)\n"
     ]
    }
   ],
   "source": [
    "#create a 64bit floating-point tensor of shape of (6) filled with evenly -spaced value between 10-20\n",
    "h = torch.linspace(10,20,6,dtype=torch.float64)\n",
    "print(h)"
   ]
  },
  {
   "cell_type": "markdown",
   "metadata": {},
   "source": [
    "###### slice index"
   ]
  },
  {
   "cell_type": "code",
   "execution_count": 57,
   "metadata": {},
   "outputs": [
    {
     "name": "stdout",
     "output_type": "stream",
     "text": [
      "tensor([1, 2, 3, 4, 5])\n",
      "tensor([1, 2, 3, 4, 5])\n",
      "tensor([1, 2, 3, 4])\n",
      "tensor([4, 5])\n",
      "tensor([1, 3, 5])\n",
      "tensor([2, 3, 4, 5])\n",
      "tensor([1, 2, 3])\n",
      "tensor([1, 4])\n"
     ]
    }
   ],
   "source": [
    "a = torch.tensor([1,2,3,4,5])\n",
    "print(a)\n",
    "print(a[:])\n",
    "print(a[:4])\n",
    "print(a[3:])\n",
    "print(a[::2])\n",
    "print(a[-4:])\n",
    "print(a[:-2])\n",
    "print(a[-5::3])"
   ]
  },
  {
   "cell_type": "markdown",
   "metadata": {},
   "source": [
    "###### slice for each dimensions"
   ]
  },
  {
   "cell_type": "code",
   "execution_count": 69,
   "metadata": {},
   "outputs": [
    {
     "name": "stdout",
     "output_type": "stream",
     "text": [
      "tensor([[4, 5, 6, 7, 2],\n",
      "        [2, 4, 1, 5, 7]])\n",
      "tensor([2, 4, 1, 5, 7])\n",
      "tensor([7, 5])\n",
      "tensor([[2]])\n",
      "torch.Size([2, 3])\n",
      "tensor([[6, 7, 2]])\n"
     ]
    }
   ],
   "source": [
    "b= torch.tensor([[4,5,6,7,2],[2,4,1,5,7]])\n",
    "print(b)\n",
    "print(b[1,:])\n",
    "print(b[:,3])\n",
    "print(b[1:2,:1])\n",
    "print(b[:,2:].shape)\n",
    "print(b[:1,-3:])"
   ]
  },
  {
   "cell_type": "markdown",
   "metadata": {},
   "source": [
    "###### tensor clone"
   ]
  },
  {
   "cell_type": "code",
   "execution_count": 74,
   "metadata": {},
   "outputs": [
    {
     "name": "stdout",
     "output_type": "stream",
     "text": [
      "tensor([[ 6,  7,  2],\n",
      "        [ 1,  5, 20]])\n",
      "tensor([[6, 7, 2],\n",
      "        [1, 5, 7]])\n",
      "False\n"
     ]
    }
   ],
   "source": [
    "c = b[:,2:]\n",
    "d = b[:,2:].clone() # doesn't affect even though original tensor has been changed\n",
    "d[1,2] = 20\n",
    "print(d)\n",
    "print(c)\n",
    "print(d.storage().data_ptr() == c.storage().data_ptr())# check whether the tensor that is same as the original or not "
   ]
  },
  {
   "cell_type": "markdown",
   "metadata": {},
   "source": [
    "##### Integer Tensor Indexing"
   ]
  },
  {
   "cell_type": "code",
   "execution_count": 3,
   "metadata": {},
   "outputs": [
    {
     "name": "stdout",
     "output_type": "stream",
     "text": [
      "tensor([[1, 2, 3],\n",
      "        [4, 5, 6],\n",
      "        [7, 8, 9]])\n",
      "tensor([[1, 2, 3],\n",
      "        [1, 2, 3],\n",
      "        [7, 8, 9],\n",
      "        [4, 5, 6],\n",
      "        [4, 5, 6]])\n",
      "tensor([[7, 8, 9],\n",
      "        [4, 5, 6],\n",
      "        [1, 2, 3]])\n",
      "tensor([1, 5, 9])\n",
      "tensor([[11,  2,  3],\n",
      "        [ 4, 22,  6],\n",
      "        [ 7,  8, 33]])\n",
      "tensor([3, 4, 8])\n"
     ]
    }
   ],
   "source": [
    "a = torch.tensor([[1,2,3],[4,5,6],[7,8,9]])\n",
    "print(a)\n",
    "idx = torch.tensor([0,0,2,1,1]) #create a tensor of shape(5,3) by reordering from a\n",
    "print(a[idx])\n",
    "idx = [2,1,0] #reverse columns in a\n",
    "print(a[i,idx])\n",
    "idx= [0,1,2] #get diagonal of tensor \n",
    "print(a[idx,idx])\n",
    "a[idx,idx] = torch.tensor([11,22,33]) #set diagonal of tensor\n",
    "print(a)\n",
    "idx0= torch.arange(a.shape[0]) # return rows of a\n",
    "idx1 = [2,0,1]\n",
    "print(a[idx0,idx1]) # pick ele 3 of row 0, ele 1 of row 1, element 2 of row 2 and return 1 dimensional tensor\n"
   ]
  },
  {
   "cell_type": "markdown",
   "metadata": {},
   "source": [
    "##### working with boolean tensor index"
   ]
  },
  {
   "cell_type": "code",
   "execution_count": 5,
   "metadata": {},
   "outputs": [
    {
     "name": "stdout",
     "output_type": "stream",
     "text": [
      "tensor([[False, False,  True],\n",
      "        [ True,  True,  True],\n",
      "        [ True, False, False]])\n",
      "tensor([3, 4, 5, 6, 7])\n",
      "tensor([[1, 2, 3],\n",
      "        [0, 0, 0],\n",
      "        [0, 0, 0]])\n"
     ]
    }
   ],
   "source": [
    "a = torch.tensor([[1,2,3],[4,5,6],[7,8,9]])\n",
    "mask = (3 <= a) & (a < 8)\n",
    "print(mask) # compare each element of a with condition\n",
    "print(a[mask]) #select elements that is matched with mask\n",
    "replace = (3 < a)\n",
    "a[replace] = 0 #modify values whose condition are satisfied\n",
    "print(a)"
   ]
  },
  {
   "cell_type": "code",
   "execution_count": 17,
   "metadata": {},
   "outputs": [],
   "source": [
    "def make_one_hot(x):\n",
    "  \"\"\"\n",
    "  Construct a tensor of one-hot-vectors from a list of Python integers.\n",
    "\n",
    "  Input:\n",
    "  - x: A list of N ints\n",
    "\n",
    "  Returns:\n",
    "  - y: A tensor of shape (N, C) where C = 1 + max(x) is one more than the max\n",
    "       value in x. The nth row of y is a one-hot-vector representation of x[n];\n",
    "       In other words, if x[n] = c then y[n, c] = 1; all other elements of y are\n",
    "       zeros.\n",
    "  \"\"\"\n",
    "  \n",
    "  y = torch.zeros(len(x),1 + max(x))\n",
    "  #n is the position\n",
    "  #c is the value\n",
    "  for n in range(len(x)):\n",
    "    for c in x:\n",
    "      if x[n] == c :\n",
    "        y[n,c] = 1\n",
    "  ##############################################################################\n",
    "  # TODO: Complete the implementation of this function.                        #\n",
    "  ##############################################################################\n",
    "  # Replace \"pass\" statement with your code\n",
    "  \n",
    "  ##############################################################################\n",
    "  #                             END OF YOUR CODE                               #\n",
    "  ##############################################################################\n",
    "  return y"
   ]
  },
  {
   "cell_type": "code",
   "execution_count": 18,
   "metadata": {},
   "outputs": [
    {
     "name": "stdout",
     "output_type": "stream",
     "text": [
      "Here is y0:\n",
      "tensor([[0., 1., 0., 0., 0.],\n",
      "        [0., 0., 0., 0., 1.],\n",
      "        [0., 0., 0., 1., 0.],\n",
      "        [0., 0., 1., 0., 0.]])\n",
      "\n",
      "Here is y1:\n",
      "tensor([[0., 1., 0., 0., 0., 0., 0., 0.],\n",
      "        [0., 0., 0., 1., 0., 0., 0., 0.],\n",
      "        [0., 0., 0., 0., 0., 1., 0., 0.],\n",
      "        [0., 0., 0., 0., 0., 0., 0., 1.],\n",
      "        [0., 0., 0., 0., 0., 0., 1., 0.],\n",
      "        [0., 0., 1., 0., 0., 0., 0., 0.]])\n",
      "all checks pass!\n"
     ]
    }
   ],
   "source": [
    "def check_one_hot(x, y):\n",
    "  C = y.shape[1]\n",
    "  for i, n in enumerate(x):\n",
    "    if n >= C: return False\n",
    "    for j in range(C):\n",
    "      expected = 1.0 if j == n else 0.0\n",
    "      if y[i, j].item() != expected: return False\n",
    "  return True\n",
    "      \n",
    "x0 = [1, 4, 3, 2]\n",
    "y0 = make_one_hot(x0)\n",
    "print('Here is y0:')\n",
    "print(y0)\n",
    "assert check_one_hot(x0, y0), 'y0 is wrong'\n",
    "\n",
    "x1 = [1, 3, 5, 7, 6, 2]\n",
    "y1 = make_one_hot(x1)\n",
    "print('\\nHere is y1:')\n",
    "print(y1)\n",
    "assert check_one_hot(x1, y1), 'y1 is wrong'\n",
    "\n",
    "print('all checks pass!')"
   ]
  },
  {
   "cell_type": "markdown",
   "metadata": {},
   "source": [
   ]
  }
 ],
 "metadata": {
  "kernelspec": {
   "display_name": "Python 3",
   "language": "python",
   "name": "python3"
  },
  "language_info": {
   "codemirror_mode": {
    "name": "ipython",
    "version": 3
   },
   "file_extension": ".py",
   "mimetype": "text/x-python",
   "name": "python",
   "nbconvert_exporter": "python",
   "pygments_lexer": "ipython3",
   "version": "3.8.5"
  }
 },
 "nbformat": 4,
 "nbformat_minor": 4
}
